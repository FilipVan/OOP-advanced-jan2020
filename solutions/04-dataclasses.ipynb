{
 "cells": [
  {
   "cell_type": "markdown",
   "metadata": {},
   "source": [
    "**Using Dataclasses design a simple Developer class**"
   ]
  },
  {
   "cell_type": "code",
   "execution_count": 8,
   "metadata": {},
   "outputs": [],
   "source": [
    "from dataclasses import dataclass, field\n",
    "from typing import List, ClassVar\n",
    "\n",
    "@dataclass(order=True)\n",
    "class Developer:\n",
    "    \n",
    "    raise_amt: ClassVar[int] = 1.04\n",
    "    \n",
    "    emp_id: int\n",
    "    full_name: str\n",
    "    dept: str\n",
    "    salary: float = field(repr=False, hash=False)\n",
    "    title: str = field(default='Developer')\n",
    "        \n",
    "        \n",
    "    def apply_raise(self)-> float:\n",
    "        return self.salary * Developer.raise_amt"
   ]
  },
  {
   "cell_type": "code",
   "execution_count": 10,
   "metadata": {},
   "outputs": [
    {
     "data": {
      "text/plain": [
       "Developer(emp_id=100, full_name='Isabela Chinwendu', dept='Core Engineering', title='Full-stack Developer')"
      ]
     },
     "execution_count": 10,
     "metadata": {},
     "output_type": "execute_result"
    }
   ],
   "source": [
    "dev1 = Developer(100, \"Isabela Chinwendu\", \"Core Engineering\", 120000, \"Full-stack Developer\")\n",
    "dev1"
   ]
  },
  {
   "cell_type": "code",
   "execution_count": null,
   "metadata": {},
   "outputs": [],
   "source": []
  }
 ],
 "metadata": {
  "kernelspec": {
   "display_name": "Python 3",
   "language": "python",
   "name": "python3"
  },
  "language_info": {
   "codemirror_mode": {
    "name": "ipython",
    "version": 3
   },
   "file_extension": ".py",
   "mimetype": "text/x-python",
   "name": "python",
   "nbconvert_exporter": "python",
   "pygments_lexer": "ipython3",
   "version": "3.7.4"
  }
 },
 "nbformat": 4,
 "nbformat_minor": 2
}
