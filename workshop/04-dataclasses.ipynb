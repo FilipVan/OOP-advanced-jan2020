{
 "cells": [
  {
   "cell_type": "markdown",
   "metadata": {},
   "source": [
    "# Dataclasses"
   ]
  },
  {
   "cell_type": "markdown",
   "metadata": {},
   "source": [
    "### Table of Contents\n",
    "- [Objectives](#Objectives)\n",
    "- [What are Dataclasses?](#What-are-Dataclasses?)\n",
    "- [Regular Class vs Dataclass](#Regular-Class-vs-Dataclass)\n",
    "- [Code Example](#Code-Example)\n",
    "- [Classwork](#Classwork)\n",
    "- [Takeaways](#Takeaways)"
   ]
  },
  {
   "cell_type": "markdown",
   "metadata": {},
   "source": [
    "### Objectives\n",
    "- Knowledge of dataclasses.\n",
    "- How to use dataclasses and what it does for you.\n",
    "- How to represent immutable data.\n",
    "- How dataclasses handle inheritance."
   ]
  },
  {
   "cell_type": "markdown",
   "metadata": {},
   "source": [
    "### What are Dataclasses?\n",
    "\n",
    "**Dataclasses** are a way of automating the generation of boiler-plate code for writing classes. This simplifys and reduces the monotony of creating classes. Dataclasses are mutable."
   ]
  },
  {
   "cell_type": "markdown",
   "metadata": {},
   "source": [
    "### Regular Class vs Dataclass"
   ]
  },
  {
   "cell_type": "code",
   "execution_count": null,
   "metadata": {},
   "outputs": [],
   "source": [
    "# Simple Example of a regular class\n",
    "\n",
    "class RegularArticle:\n",
    "    \n",
    "    '''\n",
    "    A simple class\n",
    "    '''\n",
    "    \n",
    "    def __init__(self, title, lang, words, authors=None):\n",
    "        self.title = title\n",
    "        self.lang = lang\n",
    "        self.words = words\n",
    "        self.authors = list(authors) if authors else []\n",
    "\n",
    "    def __repr__(self):\n",
    "        return f\"{self.__class__.__name__}({self.title}, {self.lang}, {self.words}, {self.authors})\"\n",
    "    \n",
    "    def __str__(self):\n",
    "        authors = ' and '.join(map(str, self.authors))\n",
    "        return f\"{self.title} was written by {authors} in {self.lang} and has {self.words} word count\"\n",
    "    \n",
    "    def __eq__(self, other):\n",
    "        if other.__class__ is not self.__class__:\n",
    "            return NotImplemented\n",
    "        return (self.title, self.lang, self.words, self.authors) == (other.title, other.lang, other.words, other.authors)\n",
    "\n",
    "reg_article1 = RegularArticle(\"How to prepare the unicorn diet\", \"English\", 600, [\"Felicienne Obi\", \"Nkem Krause\"])\n",
    "reg_article2 = RegularArticle(\"Finding the Lochness Monster\", \"English\", 500, [\"Christine van de Peppel\"])"
   ]
  },
  {
   "cell_type": "code",
   "execution_count": null,
   "metadata": {},
   "outputs": [],
   "source": [
    "reg_article1.__str__()\n",
    "# reg_article1 == reg_article2"
   ]
  },
  {
   "cell_type": "code",
   "execution_count": null,
   "metadata": {},
   "outputs": [],
   "source": [
    "# Simple Example of a dataclass\n",
    "\n",
    "from typing import List\n",
    "from dataclasses import dataclass\n",
    "\n",
    "@dataclass\n",
    "class NewArticle:\n",
    "    \n",
    "    '''\n",
    "    A simple class\n",
    "    '''\n",
    "\n",
    "    title: str\n",
    "    lang: str\n",
    "    words: int\n",
    "    authors: List[str]\n",
    "        \n",
    "    \n",
    "    \n",
    "new_article1 = NewArticle(\"How to prepare the unicorn diet\", \"English\", 600, [\"Felicienne Obi\", \"Nkem Krause\"])\n",
    "new_article2 = NewArticle(\"Finding the Lochness Monster\", \"English\", 500, [\"Christine van de Peppel\"])"
   ]
  },
  {
   "cell_type": "code",
   "execution_count": null,
   "metadata": {
    "scrolled": true
   },
   "outputs": [],
   "source": [
    "# new_article1\n",
    "new_article1 == new_article1"
   ]
  },
  {
   "cell_type": "code",
   "execution_count": null,
   "metadata": {},
   "outputs": [],
   "source": [
    "new_article1.title = \"New Alphabets\"\n",
    "new_article1"
   ]
  },
  {
   "cell_type": "markdown",
   "metadata": {},
   "source": [
    "### **What do you notice?**\n",
    "\n",
    "1. Dataclasses generates the **`__init__()`**, **`__repr__()`** and **`__eq__()`** for you!\n",
    "2. The equality comparison not only checks values, it also does an exact class match.\n",
    "3. By default, the parameters to dataclasses are: init=True, repr=True, eq=True, order=False, unsafe_hash=False, frozen=False."
   ]
  },
  {
   "cell_type": "markdown",
   "metadata": {},
   "source": [
    "#### Ordering and Frozen\n",
    "\n",
    "##### Ordering\n",
    "If true (the default is False), **`__lt__()`**, **`__le__()`**, **`__gt__()`**, and **`__ge__()`** methods will be generated. These methods compare the class as if it were a tuple of its fields, in order. Both instances in the comparison must be of the identical type. If order is true and eq is false, a ValueError is raised.\n",
    "\n",
    "If the class already defines any of **`__lt__()`**, **`__le__()`**, **`__gt__()`**, and **`__ge__()`**, then TypeError is raised.\n",
    "\n",
    "\n",
    "##### Frozen\n",
    "If true (the default is False), assigning to fields will generate an exception. This emulates read-only frozen instances. If **`__setattr__()`** or **`__delattr__()`** is defined in the class, then TypeError is raised."
   ]
  },
  {
   "cell_type": "code",
   "execution_count": null,
   "metadata": {},
   "outputs": [],
   "source": [
    "from dataclasses import dataclass\n",
    "\n",
    "\n",
    "@dataclass(order=True, frozen=True)\n",
    "class NewArticle:\n",
    "    title: str\n",
    "    lang: str\n",
    "    words: int\n",
    "        \n",
    "\n",
    "new_article3 = NewArticle(\"Alphabets in Dutch\", \"English\", 200)\n",
    "new_article4 = NewArticle(\"Alphabets in Dutch\", \"Dutch\", 200)\n",
    "new_article5 = NewArticle(\"Alphabets in Japanese\", \"Japanese\", 350)\n",
    "new_article6 = NewArticle(\"Alphabets in Japanese\", \"English\", 200)\n",
    "new_article7 = NewArticle(\"Alphabets in Japanese\", \"English\", 200)"
   ]
  },
  {
   "cell_type": "code",
   "execution_count": null,
   "metadata": {},
   "outputs": [],
   "source": [
    "new_article3 > new_article4\n",
    "articles = [new_article3, new_article4, new_article5, new_article6, new_article7]\n",
    "sorted(articles)"
   ]
  },
  {
   "cell_type": "code",
   "execution_count": null,
   "metadata": {},
   "outputs": [],
   "source": [
    "set(articles)"
   ]
  },
  {
   "cell_type": "code",
   "execution_count": null,
   "metadata": {},
   "outputs": [],
   "source": [
    "new_article7.title = \"New Alphabets\""
   ]
  },
  {
   "cell_type": "markdown",
   "metadata": {},
   "source": [
    "### Code Example"
   ]
  },
  {
   "cell_type": "markdown",
   "metadata": {},
   "source": [
    "Create a Simple Employee class with attributes which includes first_name, last_name, wage, level.\n",
    "    - The email and fullname needs to be created upon instantiation.\n",
    "    - A collection of employees needs to be orderable.\n",
    "    - The level attribute takes a default argument of Beginner.\n",
    "    - Sensitive information like the wage should be hidden from plain view."
   ]
  },
  {
   "cell_type": "code",
   "execution_count": null,
   "metadata": {},
   "outputs": [],
   "source": [
    "from dataclasses import dataclass, field, fields\n",
    "\n",
    "@dataclass(order=True)\n",
    "class Employee:\n",
    "    \"\"\"\n",
    "    Simple Employee class\n",
    "\n",
    "    :param first_name: String of first name\n",
    "    :param last_name: String of last name\n",
    "    :param days_of_week: Integer of how many days per week worked\n",
    "    :param hours_per_day: Float of hours worked per day\n",
    "    :param wage: Float of hourly pay\n",
    "    :param weekly_pay: Property which returns a string for weekly pay\n",
    "    \"\"\"\n",
    "    \n",
    "    first_name: str\n",
    "    last_name: str\n",
    "    days_per_week: int\n",
    "    hours_per_day: float\n",
    "    wage: float = field(repr=False, hash=False, compare=False, metadata={\"units\": \"$\"})\n",
    "    level: str = field(default='Beginner')\n",
    "    \n",
    "        \n",
    "    def __post_init__(self):\n",
    "        \"\"\"\n",
    "        Email and fullname to be created upon instantiation\n",
    "        \"\"\"\n",
    "        self.email = self.first_name.lower() + '.' + self.last_name.lower() + '@company.com'\n",
    "        self.fullname = f\"{self.first_name.title()} {self.last_name.title()}\"\n",
    "        \n",
    "    def _rounder(self, number: float, places: int) -> str:\n",
    "        \"\"\"\n",
    "        Rounds a number the specified number of places\n",
    "\n",
    "        :param number: Float of number of round\n",
    "        :param places: Integer of places to round to\n",
    "        :return: String representation of the rounded number in US $\n",
    "        \"\"\"\n",
    "        amount = round(number, places)\n",
    "        return f\"${amount:0.2f}\"\n",
    "        \n",
    "    @property\n",
    "    def weekly_pay(self) -> str:\n",
    "        \"\"\"\n",
    "        Returns amount of weekly pay in US currency\n",
    "\n",
    "        For instance: $250.75\n",
    "        \"\"\"\n",
    "        total_hours = self.hours_per_day * self.days_per_week\n",
    "        total_wage = total_hours * self.wage\n",
    "        return self._rounder(total_wage, 2)"
   ]
  },
  {
   "cell_type": "code",
   "execution_count": null,
   "metadata": {},
   "outputs": [],
   "source": [
    "emp_1 = Employee(\"nadir\", \"desnoyer\", 5, 8, 12.75)\n",
    "emp_2 = Employee(\"khadija\", \"lee\", 4, 8, 14.00, \"Intermediate\")\n",
    "emp_2.weekly_pay"
   ]
  },
  {
   "cell_type": "code",
   "execution_count": null,
   "metadata": {},
   "outputs": [],
   "source": [
    "fields(emp_1)[3]"
   ]
  },
  {
   "cell_type": "markdown",
   "metadata": {},
   "source": [
    "### Classwork\n",
    "\n",
    "Design a simple Developer class using dataclasses."
   ]
  },
  {
   "cell_type": "markdown",
   "metadata": {},
   "source": [
    "##### Takeaways and Further Study\n",
    "\n",
    "- https://docs.python.org/3/library/dataclasses.html\n",
    "- https://www.youtube.com/watch?v=T-TwcmT6Rcw\n"
   ]
  },
  {
   "cell_type": "code",
   "execution_count": null,
   "metadata": {},
   "outputs": [],
   "source": []
  }
 ],
 "metadata": {
  "kernelspec": {
   "display_name": "Python 3",
   "language": "python",
   "name": "python3"
  },
  "language_info": {
   "codemirror_mode": {
    "name": "ipython",
    "version": 3
   },
   "file_extension": ".py",
   "mimetype": "text/x-python",
   "name": "python",
   "nbconvert_exporter": "python",
   "pygments_lexer": "ipython3",
   "version": "3.7.4"
  }
 },
 "nbformat": 4,
 "nbformat_minor": 2
}
